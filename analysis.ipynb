{
 "cells": [
  {
   "cell_type": "code",
   "execution_count": 11,
   "metadata": {},
   "outputs": [],
   "source": [
    "from textblob import TextBlob\n",
    "from nltk.tokenize import sent_tokenize"
   ]
  },
  {
   "cell_type": "code",
   "execution_count": 37,
   "metadata": {},
   "outputs": [],
   "source": [
    "def rank_sentences(text_dict, top=5):\n",
    "    '''\n",
    "    text_dict(dict): a dictionary mapping different sections to some text. use the output from the scrape\n",
    "                     function as an argument\n",
    "    top(int): total number of sentences that will be returned by this function. Default is 5.\n",
    "    \n",
    "    Summary of the algorithm: Stitch all the text together and break them down into sentences.\n",
    "    For each sentence, give a sentiment score. Take some number of sentences(specified by top)\n",
    "    with the highest sentiment score(i.e. more positive sentiment) and return the cleaned version of them.\n",
    "    '''\n",
    "    \n",
    "    all_text = ' '.join(text_dict[key] for key in text_dict)\n",
    "    sentences = sent_tokenize(all_text)\n",
    "    all_text = [(sent, TextBlob(sent).polarity) for sent in sentences]\n",
    "    all_text_forward = sorted(all_text, key = lambda x: x[1], reverse=True)[:top]\n",
    "    \n",
    "    return [clean_text(text) for text in all_text_forward]\n",
    "\n",
    "def clean_text(text):\n",
    "    '''clean up the ===title=== part of the text'''\n",
    "    text = re.sub('e.g.', '', text)\n",
    "    return re.sub(r'(=)+([a-zA-Z0-9\\s]*)(=)+', '', text).strip()"
   ]
  },
  {
   "cell_type": "code",
   "execution_count": 9,
   "metadata": {},
   "outputs": [],
   "source": [
    "import wikipedia\n",
    "import re\n",
    "def scrape(name, filtered_sections = False):\n",
    "    ''' name (str): name of plant\n",
    "        filtered_sections: False if you want info from all sections, or list of strings if you only want some info\n",
    "        RETURNS: dict of '''\n",
    "    top_wiki = wikipedia.search(name)[0]\n",
    "    all_content = wikipedia.page(top_wiki).content\n",
    "    section_split = re.split('\\n\\n\\n== '+ '([a-zA-Z0-9\\s]*)' + ' ==\\n', all_content)\n",
    "\n",
    "    content_dict = {'Summary': section_split[0]}\n",
    "    for i in range(len(section_split)):\n",
    "        if i%2 == 1:\n",
    "            content_dict[section_split[i]] = section_split[i+1]\n",
    "\n",
    "    if filtered_sections == False:\n",
    "        return content_dict\n",
    "    else:\n",
    "        filtered = {}\n",
    "        for section in filtered_sections:\n",
    "            try:\n",
    "                filtered[section] = content_dict[section]\n",
    "            except KeyError:\n",
    "                print('the section: '+ section + ' does not exist for '+ name)\n",
    "                \n",
    "        return filtered"
   ]
  },
  {
   "cell_type": "code",
   "execution_count": 38,
   "metadata": {},
   "outputs": [
    {
     "data": {
      "text/plain": [
       "[('It is a popular ornamental plant and is also used in herbal medicine.',\n",
       "  0.6),\n",
       " ('People use the flowers as offerings at the temple and also hang them in their homes for the New Year in belief that the flowers will bring happiness and good luck to the households.',\n",
       "  0.5121212121212121),\n",
       " ('The tree blooms better with pronounced differences between summer and winter temperatures.',\n",
       "  0.5),\n",
       " ('The tree has strong and very durable wood, and has been used to construct \"Ehela Kanuwa\", a site at Adams Peak, Sri Lanka, which is made of C. fistula (ahala, ehela, or aehaela, ඇහැල in Sinhala ) heartwood.',\n",
       "  0.31666666666666665),\n",
       " ('He found that golden jackals feed on the fruits and help in seed dispersal.',\n",
       "  0.3),\n",
       " ('It blooms in late spring.', -0.3),\n",
       " ('A 2006–2007 flower festival, the Royal Flora Ratchaphruek, was named after the tree, which is known in Thai as ratchaphruek (Thai: ราชพฤกษ์) and the blossoms commonly referred to as dok khun (Thai: ดอกคูน).',\n",
       "  -0.3),\n",
       " ('C. fistula is widely grown as an ornamental plant in tropical and subtropical areas.',\n",
       "  -0.1),\n",
       " ('It can be subject to mildew or leaf spot, especially during the second half of thowing season.',\n",
       "  -0.08333333333333333),\n",
       " ('It grows well in dry climates.', -0.06666666666666665)]"
      ]
     },
     "execution_count": 38,
     "metadata": {},
     "output_type": "execute_result"
    }
   ],
   "source": [
    "text_dict = scrape('Golden shower tree')\n",
    "rank_sentences(text_dict)"
   ]
  },
  {
   "cell_type": "code",
   "execution_count": 22,
   "metadata": {},
   "outputs": [
    {
     "data": {
      "text/plain": [
       "'The flowers are mostly visited by bumblebees and often by honey bees.'"
      ]
     },
     "execution_count": 22,
     "metadata": {},
     "output_type": "execute_result"
    }
   ],
   "source": [
    "text = '=== Culinary uses ===\\nBesides making an excellent forage crop for livestock, its leaves and flowers are a valuable survival food: they are high in proteins, and are widespread and abundant.'\n",
    "regex = re.search(r'(=)+([a-zA-Z0-9\\s]*)(=)+', text)\n",
    "\n",
    "new_text = re.sub(r'(=)+([a-zA-Z0-9\\s]*)(=)+', '', text).strip()\n",
    "new_text"
   ]
  },
  {
   "cell_type": "code",
   "execution_count": null,
   "metadata": {},
   "outputs": [],
   "source": []
  }
 ],
 "metadata": {
  "kernelspec": {
   "display_name": "Python 3",
   "language": "python",
   "name": "python3"
  },
  "language_info": {
   "codemirror_mode": {
    "name": "ipython",
    "version": 3
   },
   "file_extension": ".py",
   "mimetype": "text/x-python",
   "name": "python",
   "nbconvert_exporter": "python",
   "pygments_lexer": "ipython3",
   "version": "3.7.2"
  }
 },
 "nbformat": 4,
 "nbformat_minor": 2
}
