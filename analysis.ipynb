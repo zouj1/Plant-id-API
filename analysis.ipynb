{
 "cells": [
  {
   "cell_type": "code",
   "execution_count": 11,
   "metadata": {},
   "outputs": [],
   "source": [
    "from textblob import TextBlob\n",
    "from nltk.tokenize import sent_tokenize"
   ]
  },
  {
   "cell_type": "code",
   "execution_count": 24,
   "metadata": {},
   "outputs": [],
   "source": [
    "def rank_sentences(text_dict, top=5):\n",
    "    all_text = ' '.join(text_dict[key] for key in text_dict)\n",
    "    sentences = sent_tokenize(all_text)\n",
    "    all_text = [(sent, TextBlob(sent).polarity) for sent in sentences]\n",
    "    all_text = sorted(all_text, key = lambda x: x[1], reverse=True)[:top]\n",
    "    \n",
    "    return [clean_text(text) for text, _ in all_text]\n",
    "\n",
    "def clean_text(text):\n",
    "    return re.sub(r'(=)+([a-zA-Z0-9\\s]*)(=)+', '', text).strip()"
   ]
  },
  {
   "cell_type": "code",
   "execution_count": 9,
   "metadata": {},
   "outputs": [],
   "source": [
    "import wikipedia\n",
    "import re\n",
    "def scrape(name, filtered_sections = False):\n",
    "    ''' name (str): name of plant\n",
    "        filtered_sections: False if you want info from all sections, or list of strings if you only want some info\n",
    "        RETURNS: dict of '''\n",
    "    top_wiki = wikipedia.search(name)[0]\n",
    "    all_content = wikipedia.page(top_wiki).content\n",
    "    section_split = re.split('\\n\\n\\n== '+ '([a-zA-Z0-9\\s]*)' + ' ==\\n', all_content)\n",
    "\n",
    "    content_dict = {'Summary': section_split[0]}\n",
    "    for i in range(len(section_split)):\n",
    "        if i%2 == 1:\n",
    "            content_dict[section_split[i]] = section_split[i+1]\n",
    "\n",
    "    if filtered_sections == False:\n",
    "        return content_dict\n",
    "    else:\n",
    "        filtered = {}\n",
    "        for section in filtered_sections:\n",
    "            try:\n",
    "                filtered[section] = content_dict[section]\n",
    "            except KeyError:\n",
    "                print('the section: '+ section + ' does not exist for '+ name)\n",
    "                \n",
    "        return filtered"
   ]
  },
  {
   "cell_type": "code",
   "execution_count": 25,
   "metadata": {},
   "outputs": [
    {
     "data": {
      "text/plain": [
       "['The flowers are mostly visited by bumblebees and often by honey bees.',\n",
       " 'Besides making an excellent forage crop for livestock, its leaves and flowers are a valuable survival food: they are high in proteins, and are widespread and abundant.',\n",
       " 'Among forage plants, some white clover varieties tend to be favored by rather close grazing, because of their stoloniferous habit, which can contribute to competitive advantage.',\n",
       " 'White clover has been described as the most important forage legume of the temperate zones.',\n",
       " 'In India, T. repens  is considered a folk medicine against intestinal helminthic worms, and an experimental in-vivo study validated that the aerial shoots of T. repens bear significant anticestodal properties.']"
      ]
     },
     "execution_count": 25,
     "metadata": {},
     "output_type": "execute_result"
    }
   ],
   "source": [
    "text_dict = scrape('Trifolium repens')\n",
    "rank_sentences(text_dict)"
   ]
  },
  {
   "cell_type": "code",
   "execution_count": 22,
   "metadata": {},
   "outputs": [
    {
     "data": {
      "text/plain": [
       "'The flowers are mostly visited by bumblebees and often by honey bees.'"
      ]
     },
     "execution_count": 22,
     "metadata": {},
     "output_type": "execute_result"
    }
   ],
   "source": [
    "text = '=== Culinary uses ===\\nBesides making an excellent forage crop for livestock, its leaves and flowers are a valuable survival food: they are high in proteins, and are widespread and abundant.'\n",
    "regex = re.search(r'(=)+([a-zA-Z0-9\\s]*)(=)+', text)\n",
    "\n",
    "new_text = re.sub(r'(=)+([a-zA-Z0-9\\s]*)(=)+', '', text).strip()\n",
    "new_text"
   ]
  },
  {
   "cell_type": "code",
   "execution_count": null,
   "metadata": {},
   "outputs": [],
   "source": []
  }
 ],
 "metadata": {
  "kernelspec": {
   "display_name": "Python 3",
   "language": "python",
   "name": "python3"
  },
  "language_info": {
   "codemirror_mode": {
    "name": "ipython",
    "version": 3
   },
   "file_extension": ".py",
   "mimetype": "text/x-python",
   "name": "python",
   "nbconvert_exporter": "python",
   "pygments_lexer": "ipython3",
   "version": "3.7.2"
  }
 },
 "nbformat": 4,
 "nbformat_minor": 2
}
