{
 "cells": [
  {
   "cell_type": "code",
   "execution_count": 2,
   "metadata": {},
   "outputs": [],
   "source": [
    "import base64\n",
    "import requests\n",
    "import wikipedia\n",
    "import re\n",
    "\n",
    "your_api_key = \"E66BiKTPRCUdCczIgRzOBhg8U6NKjymYrM288lFmzCMKxl8Nx7\" #jasmine's api key: only used 3 id"
   ]
  },
  {
   "cell_type": "code",
   "execution_count": 6,
   "metadata": {},
   "outputs": [],
   "source": [
    "def identify(img_path, thresh = 0.6):\n",
    "    '''img_path(str): path to image to be identified\n",
    "        thresh(float): probability for which we are confident enought in our classification\n",
    "        RETURNS: dictionary of info if thresh is met, str saying try again if not'''\n",
    "    with open(img_path, \"rb\") as file:\n",
    "        images = [base64.b64encode(file.read()).decode(\"ascii\")]\n",
    "    \n",
    "    json_data = {\n",
    "        \"images\": images,\n",
    "        \"modifiers\": [\"similar_images\"],\n",
    "        \"plant_details\": [\"common_names\", \"url\"]\n",
    "    }\n",
    "    \n",
    "    response = requests.post(\n",
    "        \"https://api.plant.id/v2/identify\",\n",
    "        json=json_data,\n",
    "        headers={\n",
    "            \"Content-Type\": \"application/json\",\n",
    "            \"Api-Key\": your_api_key\n",
    "        }).json()\n",
    "    \n",
    "    if response['suggestions'][0]['probability'] < thresh:\n",
    "        return 'We are having difficulty classifying your image. Please try a different picture!'\n",
    "    \n",
    "    return response"
   ]
  },
  {
   "cell_type": "code",
   "execution_count": 4,
   "metadata": {},
   "outputs": [],
   "source": [
    "def scrape(name, filtered_sections = False):\n",
    "    ''' name (str): name of plant\n",
    "        filtered_sections: False if you want info from all sections, or list of strings if you only want some info\n",
    "        RETURNS: dict of '''\n",
    "    top_wiki = wikipedia.search(name)[0]\n",
    "    all_content = wikipedia.page(top_wiki).content\n",
    "    section_split = re.split('\\n\\n\\n== '+ '([a-zA-Z0-9\\s]*)' + ' ==\\n', all_content)\n",
    "\n",
    "    content_dict = {'Summary': section_split[0]}\n",
    "    for i in range(len(section_split)):\n",
    "        if i%2 == 1:\n",
    "            content_dict[section_split[i]] = section_split[i+1]\n",
    "\n",
    "    if filtered_sections == False:\n",
    "        return content_dict\n",
    "    else:\n",
    "        filtered = {}\n",
    "        for section in filtered_sections:\n",
    "            try:\n",
    "                filtered[section] = content_dict[section]\n",
    "            except KeyError:\n",
    "                print('the section: '+ section + ' does not exist for '+ name)\n",
    "                \n",
    "        return filtered"
   ]
  },
  {
   "cell_type": "code",
   "execution_count": 7,
   "metadata": {},
   "outputs": [],
   "source": [
    "img_path = \"static/img/clover.jpeg\"\n",
    "\n",
    "info = identify(img_path)\n",
    "if isinstance(info, dict):\n",
    "    name = info['suggestions'][0]['plant_name']\n",
    "#     common_names = info['suggestions'][0][\"plant_details\"][\"common_names\"]\n",
    "#     url = info['suggestions'][0][\"plant_details\"][\"url\"]\n",
    "    scrape(name)\n",
    "elif isinstance(info, str):\n",
    "    print(info)"
   ]
  },
  {
   "cell_type": "code",
   "execution_count": 8,
   "metadata": {},
   "outputs": [
    {
     "data": {
      "text/plain": [
       "'Trifolium repens'"
      ]
     },
     "execution_count": 8,
     "metadata": {},
     "output_type": "execute_result"
    }
   ],
   "source": [
    "name"
   ]
  }
 ],
 "metadata": {
  "kernelspec": {
   "display_name": "Python 3",
   "language": "python",
   "name": "python3"
  },
  "language_info": {
   "codemirror_mode": {
    "name": "ipython",
    "version": 3
   },
   "file_extension": ".py",
   "mimetype": "text/x-python",
   "name": "python",
   "nbconvert_exporter": "python",
   "pygments_lexer": "ipython3",
   "version": "3.7.0"
  }
 },
 "nbformat": 4,
 "nbformat_minor": 4
}
